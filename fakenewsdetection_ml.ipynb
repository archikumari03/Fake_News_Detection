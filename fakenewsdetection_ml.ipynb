{
  "cells": [
    {
      "cell_type": "code",
      "source": [
        "import kagglehub\n",
        "dataset_path = kagglehub.dataset_download('clmentbisaillon/fake-and-real-news-dataset')\n",
        "\n",
        "print('Data source import complete.')\n",
        "import shutil\n",
        "\n",
        "destination = \"news\"\n",
        "shutil.move(dataset_path, destination)\n",
        "print(f\"Dataset moved to {destination}\")"
      ],
      "metadata": {
        "colab": {
          "base_uri": "https://localhost:8080/"
        },
        "id": "Ih4U7T9pinrf",
        "outputId": "2a6e3522-11b7-485b-d7a0-862b1ee4dc2b"
      },
      "execution_count": 35,
      "outputs": [
        {
          "output_type": "stream",
          "name": "stdout",
          "text": [
            "Downloading from https://www.kaggle.com/api/v1/datasets/download/clmentbisaillon/fake-and-real-news-dataset?dataset_version_number=1...\n"
          ]
        },
        {
          "output_type": "stream",
          "name": "stderr",
          "text": [
            "100%|██████████| 41.0M/41.0M [00:00<00:00, 187MB/s]"
          ]
        },
        {
          "output_type": "stream",
          "name": "stdout",
          "text": [
            "Extracting files...\n"
          ]
        },
        {
          "output_type": "stream",
          "name": "stderr",
          "text": [
            "\n"
          ]
        },
        {
          "output_type": "stream",
          "name": "stdout",
          "text": [
            "Data source import complete.\n",
            "Dataset moved to news\n"
          ]
        }
      ]
    },
    {
      "cell_type": "code",
      "source": [
        "import pandas as pd\n",
        "import numpy as np\n",
        "import matplotlib.pyplot as plt\n",
        "from sklearn.model_selection import train_test_split\n",
        "from sklearn.feature_extraction.text import TfidfVectorizer\n",
        "from sklearn.metrics import accuracy_score, roc_curve, auc, confusion_matrix, classification_report, recall_score, f1_score, precision_score\n",
        "from sklearn.linear_model import LogisticRegression\n",
        "from sklearn.naive_bayes import MultinomialNB\n",
        "from sklearn.svm import SVC\n",
        "from sklearn.ensemble import RandomForestClassifier\n",
        "from tensorflow.keras.models import Sequential\n",
        "from tensorflow.keras.layers import Dense, Dropout\n",
        "from tensorflow.keras.callbacks import History\n",
        "from tensorflow.keras.optimizers import Adam"
      ],
      "metadata": {
        "id": "IjV6Olici7PN"
      },
      "execution_count": 36,
      "outputs": []
    },
    {
      "cell_type": "code",
      "source": [
        "# Load Dataset with proper encoding and error handling\n",
        "true_news = pd.read_csv(\"news/True.csv\", encoding=\"utf-8\", on_bad_lines=\"skip\")\n",
        "fake_news = pd.read_csv(\"news/Fake.csv\", encoding=\"utf-8\", on_bad_lines=\"skip\")"
      ],
      "metadata": {
        "id": "zprXC13kjDPI"
      },
      "execution_count": 37,
      "outputs": []
    },
    {
      "cell_type": "code",
      "source": [
        "# Add labels\n",
        "true_news['label'] = 1\n",
        "fake_news['label'] = 0"
      ],
      "metadata": {
        "id": "l2wUUQYYjYyB"
      },
      "execution_count": 38,
      "outputs": []
    },
    {
      "cell_type": "code",
      "source": [
        "# Combine the datasets\n",
        "news_df = pd.concat([true_news, fake_news])"
      ],
      "metadata": {
        "id": "sEsSwMSTjf8w"
      },
      "execution_count": 39,
      "outputs": []
    },
    {
      "cell_type": "code",
      "source": [
        "# Shuffle the dataset\n",
        "news_df = news_df.sample(frac=1).reset_index(drop=True)"
      ],
      "metadata": {
        "id": "rnUSWyvNjkdB"
      },
      "execution_count": 40,
      "outputs": []
    },
    {
      "cell_type": "code",
      "source": [
        "# DATA SIZE REDUCTION - Limit dataset size to improve performance\n",
        "# Take a subset of the data (adjust this value based on your performance needs)\n",
        "max_samples = 5000\n",
        "if len(news_df) > max_samples:\n",
        "    print(f\"Reducing dataset size from {len(news_df)} to {max_samples} for better performance\")\n",
        "    news_df = news_df.sample(n=max_samples, random_state=42).reset_index(drop=True)"
      ],
      "metadata": {
        "colab": {
          "base_uri": "https://localhost:8080/"
        },
        "id": "zlZR3YkBjoUc",
        "outputId": "131c79a2-8020-4383-d79a-3e32b3cd7344"
      },
      "execution_count": 41,
      "outputs": [
        {
          "output_type": "stream",
          "name": "stdout",
          "text": [
            "Reducing dataset size from 44898 to 5000 for better performance\n"
          ]
        }
      ]
    },
    {
      "cell_type": "code",
      "source": [
        "# Preprocessing\n",
        "def preprocess_text(text):\n",
        "    # Lowercase\n",
        "    text = text.lower()\n",
        "    # Remove punctuation and numbers\n",
        "    text = ''.join([char for char in text if char.isalpha() or char.isspace()])\n",
        "    return text"
      ],
      "metadata": {
        "id": "9McVX_crjsTb"
      },
      "execution_count": 42,
      "outputs": []
    },
    {
      "cell_type": "code",
      "source": [
        "news_df['text'] = news_df['text'].apply(preprocess_text)"
      ],
      "metadata": {
        "id": "ESwCzZNYjw3O"
      },
      "execution_count": 43,
      "outputs": []
    },
    {
      "cell_type": "code",
      "source": [
        "# Splitting the data\n",
        "X_train, X_test, y_train, y_test = train_test_split(news_df['text'], news_df['label'], test_size=0.2, random_state=42)\n"
      ],
      "metadata": {
        "id": "dYvUl9kBj012"
      },
      "execution_count": 44,
      "outputs": []
    },
    {
      "cell_type": "code",
      "source": [
        "# Vectorization - Reduce features for better performance\n",
        "# Reduced max_features to improve SVM performance\n",
        "vectorizer = TfidfVectorizer(max_features=3000)  # Reduced from 5000\n",
        "X_train_tfidf = vectorizer.fit_transform(X_train)\n",
        "X_test_tfidf = vectorizer.transform(X_test)\n"
      ],
      "metadata": {
        "id": "g0vWK-WUj4N3"
      },
      "execution_count": 45,
      "outputs": []
    },
    {
      "cell_type": "code",
      "source": [
        "# Define function to plot training history\n",
        "def plot_history(history):\n",
        "    plt.figure(figsize=(12, 4))\n",
        "    plt.subplot(1, 2, 1)\n",
        "    plt.plot(history.history['loss'], label='Training Loss')\n",
        "    plt.plot(history.history['val_loss'], label='Validation Loss')\n",
        "    plt.legend()\n",
        "    plt.title('Loss over epochs')\n",
        "\n",
        "    plt.subplot(1, 2, 2)\n",
        "    plt.plot(history.history['accuracy'], label='Training Accuracy')\n",
        "    plt.plot(history.history['val_accuracy'], label='Validation Accuracy')\n",
        "    plt.legend()\n",
        "    plt.title('Accuracy over epochs')\n",
        "\n",
        "    plt.show()"
      ],
      "metadata": {
        "id": "Id00v8Vdj5Q6"
      },
      "execution_count": 46,
      "outputs": []
    },
    {
      "cell_type": "code",
      "source": [
        "# Function to plot ROC curve\n",
        "def plot_roc_curve(y_test, y_pred_prob):\n",
        "    fpr, tpr, _ = roc_curve(y_test, y_pred_prob)\n",
        "    roc_auc = auc(fpr, tpr)\n",
        "\n",
        "    plt.figure()\n",
        "    plt.plot(fpr, tpr, color='darkorange', lw=2, label=f'ROC curve (area = {roc_auc:0.2f})')\n",
        "    plt.plot([0, 1], [0, 1], color='navy', lw=2, linestyle='--')\n",
        "    plt.xlim([0.0, 1.0])\n",
        "    plt.ylim([0.0, 1.05])\n",
        "    plt.xlabel('False Positive Rate')\n",
        "    plt.ylabel('True Positive Rate')\n",
        "    plt.title('Receiver Operating Characteristic')\n",
        "    plt.legend(loc=\"lower right\")\n",
        "    plt.show()"
      ],
      "metadata": {
        "id": "Q2qm7BLhkBEx"
      },
      "execution_count": 47,
      "outputs": []
    },
    {
      "cell_type": "code",
      "source": [
        "# Enhanced evaluation function\n",
        "def evaluate_model(y_true, y_pred):\n",
        "    print(\"Accuracy:\", accuracy_score(y_true, y_pred))\n",
        "    print(\"Precision:\", precision_score(y_true, y_pred))\n",
        "    print(\"Recall:\", recall_score(y_true, y_pred))\n",
        "    print(\"F1 Score:\", f1_score(y_true, y_pred))\n"
      ],
      "metadata": {
        "id": "Fgbk8n4-kKBy"
      },
      "execution_count": 48,
      "outputs": []
    },
    {
      "cell_type": "code",
      "source": [
        "model = LogisticRegression()\n",
        "model.fit(X_train_tfidf, y_train) # Fit the model to your training data\n",
        "y_pred = model.predict(X_test_tfidf) # Get predictions on the test data\n",
        "\n",
        "\n",
        "cm = confusion_matrix(y_test, y_pred) # Use y_test as y_true\n",
        "print(\"Confusion Matrix:\\n\", cm)"
      ],
      "metadata": {
        "colab": {
          "base_uri": "https://localhost:8080/"
        },
        "id": "D1zCnHaUk6D0",
        "outputId": "928d3e1f-e80f-49b1-b7b2-86620af5d395"
      },
      "execution_count": 51,
      "outputs": [
        {
          "output_type": "stream",
          "name": "stdout",
          "text": [
            "Confusion Matrix:\n",
            " [[496   8]\n",
            " [ 10 486]]\n"
          ]
        }
      ]
    },
    {
      "cell_type": "code",
      "source": [
        "# Function to evaluate models with optional sampling for SVM\n",
        "def evaluate_model_full(model, X_train, y_train, X_test, y_test, model_name=\"\"):\n",
        "    print(f\"Training {model_name}...\")\n",
        "    # For SVM, use a smaller subset of training data if dataset is large\n",
        "    if model_name == \"Support Vector Machine\" and X_train.shape[0] > 2000:\n",
        "        # Add code here to handle the SVM case with large dataset\n",
        "        pass # This is a placeholder, replace with your desired logic"
      ],
      "metadata": {
        "id": "v-OueP_M0RSa"
      },
      "execution_count": 78,
      "outputs": []
    },
    {
      "cell_type": "code",
      "source": [
        "def train_and_evaluate(model, X_train, y_train, X_test, y_test, use_subset=True):\n",
        "    if use_subset:\n",
        "        # Create a smaller subset for SVM\n",
        "        sample_size = min(2000, X_train.shape[0])\n",
        "        indices = np.random.choice(X_train.shape[0], sample_size, replace=False)\n",
        "        X_train_sample = X_train[indices]\n",
        "        y_train_sample = y_train.iloc[indices]\n",
        "        print(f\"Using a subset of {sample_size} samples for SVM training to improve performance\")\n",
        "        model.fit(X_train_sample, y_train_sample)\n",
        "    else:\n",
        "        model.fit(X_train, y_train)\n",
        "\n",
        "    y_pred = model.predict(X_test)\n",
        "    y_pred_prob = model.predict_proba(X_test)[:, 1] if hasattr(model, \"predict_proba\") else np.zeros_like(y_pred)\n",
        "\n",
        "    accuracy = accuracy_score(y_test, y_pred)\n",
        "    cm = confusion_matrix(y_test, y_pred)\n",
        "    report = classification_report(y_test, y_pred)\n",
        "\n",
        "    print(f'Accuracy: {accuracy}')\n",
        "    print('Confusion Matrix:')\n",
        "    print(cm)\n",
        "    print('Classification Report:')\n",
        "    print(report)\n",
        "\n",
        "    if hasattr(model, \"predict_proba\"):\n",
        "        plot_roc_curve(y_test, y_pred_prob)\n",
        "\n",
        "    return y_pred"
      ],
      "metadata": {
        "id": "jrIsBAqy7rRg"
      },
      "execution_count": 79,
      "outputs": []
    },
    {
      "cell_type": "code",
      "source": [
        "# Custom input prediction function\n",
        "def predict_custom_input(model, vectorizer):\n",
        "    user_input = input(\"Enter a news article or headline to check its authenticity: \")\n",
        "    input_vector = vectorizer.transform([user_input])\n",
        "    prediction = model.predict(input_vector)\n",
        "\n",
        "    if prediction[0] == 1:\n",
        "        print(\"Prediction: Real News\")\n",
        "    else:\n",
        "        print(\"Prediction: Fake News\")"
      ],
      "metadata": {
        "id": "9SVRzJki_yEw"
      },
      "execution_count": 114,
      "outputs": []
    },
    {
      "cell_type": "code",
      "source": [
        "# Logistic Regression\n",
        "print(\"Logistic Regression\")\n",
        "logreg = LogisticRegression(max_iter=1000)\n",
        "evaluate_model_full(logreg, X_train_tfidf, y_train, X_test_tfidf, y_test, \"Logistic Regression\")\n"
      ],
      "metadata": {
        "colab": {
          "base_uri": "https://localhost:8080/"
        },
        "id": "pQga3o6z_4PB",
        "outputId": "7d327365-39dc-4c91-d773-5701ce14634d"
      },
      "execution_count": 81,
      "outputs": [
        {
          "output_type": "stream",
          "name": "stdout",
          "text": [
            "Logistic Regression\n",
            "Training Logistic Regression...\n"
          ]
        }
      ]
    },
    {
      "cell_type": "code",
      "source": [
        "# Multinomial Naive Bayes\n",
        "print(\"Multinomial Naive Bayes\")\n",
        "mnb = MultinomialNB()\n",
        "evaluate_model_full(mnb, X_train_tfidf, y_train, X_test_tfidf, y_test, \"Multinomial Naive Bayes\")"
      ],
      "metadata": {
        "colab": {
          "base_uri": "https://localhost:8080/"
        },
        "id": "ngMVf7KXAAkC",
        "outputId": "1d4f51d8-5107-44a6-e37d-ad25209b6dd3"
      },
      "execution_count": 82,
      "outputs": [
        {
          "output_type": "stream",
          "name": "stdout",
          "text": [
            "Multinomial Naive Bayes\n",
            "Training Multinomial Naive Bayes...\n"
          ]
        }
      ]
    },
    {
      "cell_type": "code",
      "source": [
        "# Support Vector Machine - With optimized parameters\n",
        "print(\"Support Vector Machine\")\n",
        "# Use a linear kernel for better performance, disable probability calibration during training\n",
        "svc = SVC(kernel='linear', probability=True, C=1.0, max_iter=1000)\n",
        "evaluate_model_full(svc, X_train_tfidf, y_train, X_test_tfidf, y_test, \"Support Vector Machine\")"
      ],
      "metadata": {
        "colab": {
          "base_uri": "https://localhost:8080/"
        },
        "id": "I06FLdp9AHE3",
        "outputId": "19516995-d480-4be1-a88f-9a606098d2f6"
      },
      "execution_count": 83,
      "outputs": [
        {
          "output_type": "stream",
          "name": "stdout",
          "text": [
            "Support Vector Machine\n",
            "Training Support Vector Machine...\n"
          ]
        }
      ]
    },
    {
      "cell_type": "code",
      "source": [
        "# Random Forest - With reduced estimators for speed\n",
        "print(\"Random Forest\")\n",
        "rf = RandomForestClassifier(n_estimators=50)  # Reduced from 100\n",
        "evaluate_model_full(rf, X_train_tfidf, y_train, X_test_tfidf, y_test, \"Random Forest\")\n"
      ],
      "metadata": {
        "colab": {
          "base_uri": "https://localhost:8080/"
        },
        "id": "Ea46u5U2ANqs",
        "outputId": "40a1db65-ffd5-4429-d979-5749eb7ce66d"
      },
      "execution_count": 84,
      "outputs": [
        {
          "output_type": "stream",
          "name": "stdout",
          "text": [
            "Random Forest\n",
            "Training Random Forest...\n"
          ]
        }
      ]
    },
    {
      "cell_type": "code",
      "source": [
        "# Neural Network - With simpler architecture\n",
        "print(\"Neural Network\")\n",
        "def create_nn_model(input_dim):\n",
        "    model = Sequential()\n",
        "    model.add(Dense(256, input_dim=input_dim, activation='relu'))  # Reduced from 512\n",
        "    model.add(Dropout(0.3))  # Reduced dropout\n",
        "    model.add(Dense(128, activation='relu'))  # Reduced from 256\n",
        "    model.add(Dropout(0.3))\n",
        "    model.add(Dense(1, activation='sigmoid'))\n",
        "    model.compile(loss='binary_crossentropy', optimizer=Adam(learning_rate=0.001), metrics=['accuracy'])\n",
        "    return model"
      ],
      "metadata": {
        "colab": {
          "base_uri": "https://localhost:8080/"
        },
        "id": "lAS-gyEAASb2",
        "outputId": "e19f4bbc-5af0-4088-c52b-b253898d57ca"
      },
      "execution_count": 85,
      "outputs": [
        {
          "output_type": "stream",
          "name": "stdout",
          "text": [
            "Neural Network\n"
          ]
        }
      ]
    },
    {
      "cell_type": "code",
      "source": [
        "nn_model = create_nn_model(X_train_tfidf.shape[1])\n",
        "history = History()\n",
        "# Fewer epochs and larger batch size for faster training\n",
        "nn_model.fit(X_train_tfidf.toarray(), y_train, epochs=5, batch_size=256, validation_split=0.2, callbacks=[history])\n",
        "plot_history(history)"
      ],
      "metadata": {
        "colab": {
          "base_uri": "https://localhost:8080/",
          "height": 500
        },
        "id": "4e_xL-vqAXVO",
        "outputId": "ebde85ba-5709-4e19-ee0a-60ef15841225"
      },
      "execution_count": 86,
      "outputs": [
        {
          "output_type": "stream",
          "name": "stderr",
          "text": [
            "/usr/local/lib/python3.11/dist-packages/keras/src/layers/core/dense.py:87: UserWarning: Do not pass an `input_shape`/`input_dim` argument to a layer. When using Sequential models, prefer using an `Input(shape)` object as the first layer in the model instead.\n",
            "  super().__init__(activity_regularizer=activity_regularizer, **kwargs)\n"
          ]
        },
        {
          "output_type": "stream",
          "name": "stdout",
          "text": [
            "Epoch 1/5\n",
            "\u001b[1m13/13\u001b[0m \u001b[32m━━━━━━━━━━━━━━━━━━━━\u001b[0m\u001b[37m\u001b[0m \u001b[1m2s\u001b[0m 48ms/step - accuracy: 0.5973 - loss: 0.6640 - val_accuracy: 0.9075 - val_loss: 0.4985\n",
            "Epoch 2/5\n",
            "\u001b[1m13/13\u001b[0m \u001b[32m━━━━━━━━━━━━━━━━━━━━\u001b[0m\u001b[37m\u001b[0m \u001b[1m1s\u001b[0m 35ms/step - accuracy: 0.9249 - loss: 0.4207 - val_accuracy: 0.9425 - val_loss: 0.2115\n",
            "Epoch 3/5\n",
            "\u001b[1m13/13\u001b[0m \u001b[32m━━━━━━━━━━━━━━━━━━━━\u001b[0m\u001b[37m\u001b[0m \u001b[1m0s\u001b[0m 34ms/step - accuracy: 0.9576 - loss: 0.1704 - val_accuracy: 0.9638 - val_loss: 0.1203\n",
            "Epoch 4/5\n",
            "\u001b[1m13/13\u001b[0m \u001b[32m━━━━━━━━━━━━━━━━━━━━\u001b[0m\u001b[37m\u001b[0m \u001b[1m0s\u001b[0m 33ms/step - accuracy: 0.9757 - loss: 0.0860 - val_accuracy: 0.9712 - val_loss: 0.0974\n",
            "Epoch 5/5\n",
            "\u001b[1m13/13\u001b[0m \u001b[32m━━━━━━━━━━━━━━━━━━━━\u001b[0m\u001b[37m\u001b[0m \u001b[1m0s\u001b[0m 33ms/step - accuracy: 0.9896 - loss: 0.0472 - val_accuracy: 0.9737 - val_loss: 0.0773\n"
          ]
        },
        {
          "output_type": "display_data",
          "data": {
            "text/plain": [
              "<Figure size 1200x400 with 2 Axes>"
            ],
            "image/png": "[encoded data removed]"
          },
          "metadata": {}
        }
      ]
    },
    {
      "cell_type": "code",
      "source": [
        "# Evaluate Neural Network\n",
        "y_pred_prob_nn = nn_model.predict(X_test_tfidf.toarray()).ravel()\n",
        "y_pred_nn = (y_pred_prob_nn > 0.5).astype(int)\n",
        "print(f'Accuracy: {accuracy_score(y_test, y_pred_nn)}')\n",
        "print('Confusion Matrix:')\n",
        "print(confusion_matrix(y_test, y_pred_nn))\n",
        "print('Classification Report:')\n",
        "print(classification_report(y_test, y_pred_nn))\n",
        "plot_roc_curve(y_test, y_pred_prob_nn)"
      ],
      "metadata": {
        "colab": {
          "base_uri": "https://localhost:8080/",
          "height": 732
        },
        "id": "QR_lGEd1Adlz",
        "outputId": "669b243c-8535-4bf0-8938-749034f9bc62"
      },
      "execution_count": 87,
      "outputs": [
        {
          "output_type": "stream",
          "name": "stdout",
          "text": [
            "\u001b[1m32/32\u001b[0m \u001b[32m━━━━━━━━━━━━━━━━━━━━\u001b[0m\u001b[37m\u001b[0m \u001b[1m0s\u001b[0m 4ms/step\n",
            "Accuracy: 0.972\n",
            "Confusion Matrix:\n",
            "[[492  12]\n",
            " [ 16 480]]\n",
            "Classification Report:\n",
            "              precision    recall  f1-score   support\n",
            "\n",
            "           0       0.97      0.98      0.97       504\n",
            "           1       0.98      0.97      0.97       496\n",
            "\n",
            "    accuracy                           0.97      1000\n",
            "   macro avg       0.97      0.97      0.97      1000\n",
            "weighted avg       0.97      0.97      0.97      1000\n",
            "\n"
          ]
        },
        {
          "output_type": "display_data",
          "data": {
            "text/plain": [
              "<Figure size 640x480 with 1 Axes>"
            ],
            "image/png": "[encoded data removed]"
          },
          "metadata": {}
        }
      ]
    },
    {
      "cell_type": "code",
      "source": [
        "# Using the new evaluation function on neural network results\n",
        "print(\"\\nEnhanced Evaluation for Neural Network:\")\n",
        "evaluate_model(y_test, y_pred_nn)"
      ],
      "metadata": {
        "colab": {
          "base_uri": "https://localhost:8080/"
        },
        "id": "YTcsiCJuAjYP",
        "outputId": "428bb084-e70e-43d8-cc83-5cd78404574f"
      },
      "execution_count": 88,
      "outputs": [
        {
          "output_type": "stream",
          "name": "stdout",
          "text": [
            "\n",
            "Enhanced Evaluation for Neural Network:\n",
            "Accuracy: 0.972\n",
            "Precision: 0.975609756097561\n",
            "Recall: 0.967741935483871\n",
            "F1 Score: 0.97165991902834\n"
          ]
        }
      ]
    },
    {
      "cell_type": "code",
      "source": [
        "# Ensure all models are fitted before making predictions\n",
        "models = {\n",
        "    'Logistic Regression': logreg,\n",
        "    'Multinomial Naive Bayes': mnb,\n",
        "    'Support Vector Machine': svc,\n",
        "    'Random Forest': rf,\n",
        "    'Neural Network': nn_model  # Assuming nn_model is defined\n",
        "}\n",
        "\n",
        "for name, model in models.items():\n",
        "    if not hasattr(model, 'classes_'):\n",
        "        print(f\"Fitting model: {name}\")\n",
        "        model.fit(X_train_tfidf, y_train)\n"
      ],
      "metadata": {
        "colab": {
          "base_uri": "https://localhost:8080/"
        },
        "id": "0Li1jGCeB4if",
        "outputId": "965259c0-a061-4994-984f-3be363e80901"
      },
      "execution_count": 92,
      "outputs": [
        {
          "output_type": "stream",
          "name": "stdout",
          "text": [
            "Fitting model: Logistic Regression\n",
            "Fitting model: Multinomial Naive Bayes\n",
            "Fitting model: Support Vector Machine\n"
          ]
        },
        {
          "output_type": "stream",
          "name": "stderr",
          "text": [
            "/usr/local/lib/python3.11/dist-packages/sklearn/svm/_base.py:305: ConvergenceWarning: Solver terminated early (max_iter=1000).  Consider pre-processing your data with StandardScaler or MinMaxScaler.\n",
            "  warnings.warn(\n"
          ]
        },
        {
          "output_type": "stream",
          "name": "stdout",
          "text": [
            "Fitting model: Random Forest\n",
            "Fitting model: Neural Network\n",
            "\u001b[1m125/125\u001b[0m \u001b[32m━━━━━━━━━━━━━━━━━━━━\u001b[0m\u001b[37m\u001b[0m \u001b[1m2s\u001b[0m 11ms/step - accuracy: 0.9891 - loss: 0.0433\n"
          ]
        }
      ]
    },
    {
      "cell_type": "code",
      "source": [
        "import pandas as pd\n",
        "from sklearn.metrics import accuracy_score\n",
        "import numpy as np\n",
        "\n",
        "# Ensure all models are fitted before making predictions\n",
        "models = {\n",
        "    'Logistic Regression': logreg,\n",
        "    'Multinomial Naive Bayes': mnb,\n",
        "    'Support Vector Machine': svc,\n",
        "    'Random Forest': rf,\n",
        "    'Neural Network': nn_model  # Assuming nn_model is defined\n",
        "}\n",
        "\n",
        "for name, model in models.items():\n",
        "    if not hasattr(model, 'classes_') and name != 'Neural Network':\n",
        "        print(f\"Fitting model: {name}\")\n",
        "        model.fit(X_train_tfidf, y_train)\n",
        "\n",
        "# Ensure neural network predictions are properly formatted\n",
        "def get_predictions(model, X_test):\n",
        "    if model == nn_model:\n",
        "        return (model.predict(X_test) > 0.5).astype(int).flatten()  # Convert to binary format\n",
        "    return model.predict(X_test)\n",
        "\n",
        "# Compare models\n",
        "results = pd.DataFrame({\n",
        "    'Model': list(models.keys()),\n",
        "    'Accuracy': [accuracy_score(y_test, get_predictions(model, X_test_tfidf)) for model in models.values()]\n",
        "})\n",
        "\n",
        "print(results)\n",
        "\n",
        "# Demonstrate custom input prediction with the best model\n",
        "# Find the best model\n",
        "best_model_index = results['Accuracy'].idxmax()\n",
        "best_model_name = results.loc[best_model_index, 'Model']\n",
        "print(f\"\\nBest performing model is: {best_model_name}\")\n",
        "\n",
        "# Select best model for prediction\n",
        "best_model = models.get(best_model_name, None)\n",
        "if best_model is None:\n",
        "    print(\"Neural Network selected. Note that prediction input will need to be converted to array format.\")\n",
        "\n",
        "# Enhanced user interface for predictions\n",
        "print(\"\\n\")\n",
        "print(\"=\"*50)\n",
        "print(\"FAKE NEWS DETECTION SYSTEM\")\n",
        "print(\"=\"*50)"
      ],
      "metadata": {
        "colab": {
          "base_uri": "https://localhost:8080/"
        },
        "id": "Gd5B0BPBD3kj",
        "outputId": "21a50172-7ffc-444d-b1dc-c26540abfbf3"
      },
      "execution_count": 100,
      "outputs": [
        {
          "output_type": "stream",
          "name": "stdout",
          "text": [
            "\u001b[1m32/32\u001b[0m \u001b[32m━━━━━━━━━━━━━━━━━━━━\u001b[0m\u001b[37m\u001b[0m \u001b[1m0s\u001b[0m 5ms/step\n",
            "                     Model  Accuracy\n",
            "0      Logistic Regression     0.982\n",
            "1  Multinomial Naive Bayes     0.948\n",
            "2   Support Vector Machine     0.986\n",
            "3            Random Forest     0.993\n",
            "4           Neural Network     0.974\n",
            "\n",
            "Best performing model is: Random Forest\n",
            "\n",
            "\n",
            "==================================================\n",
            "FAKE NEWS DETECTION SYSTEM\n",
            "==================================================\n"
          ]
        }
      ]
    },
    {
      "cell_type": "code",
      "source": [
        "# Function for getting multiple predictions\n",
        "def predict_multiple_inputs(model, vectorizer):\n",
        "    while True:\n",
        "        print(\"\\nEnter a news headline or article to check (type 'exit' to quit):\")\n",
        "        user_input = input(\"> \")\n",
        "\n",
        "        if user_input.lower() == 'exit':\n",
        "            print(\"Thank you for using the Fake News Detection System.\")\n",
        "            break\n",
        "\n",
        "        if not user_input.strip():\n",
        "            print(\"Please enter some text to analyze.\")\n",
        "            continue\n",
        "\n",
        "        # Preprocess the input text\n",
        "        processed_input = preprocess_text(user_input)\n",
        "\n",
        "        # Transform to vector\n",
        "        input_vector = vectorizer.transform([processed_input])\n",
        "\n",
        "        # Get prediction\n",
        "        if best_model_name == \"Neural Network\":\n",
        "            prediction_prob = nn_model.predict(input_vector.toarray()).ravel()[0]\n",
        "            prediction = 1 if prediction_prob > 0.5 else 0\n",
        "            confidence = prediction_prob if prediction == 1 else 1 - prediction_prob\n",
        "        else:\n",
        "            prediction = model.predict(input_vector)[0]\n",
        "            prediction_prob = model.predict_proba(input_vector)[0]\n",
        "            confidence = prediction_prob[1] if prediction == 1 else prediction_prob[0]\n",
        "\n",
        "        # Display results\n",
        "        print(\"\\nPREDICTION RESULTS:\")\n",
        "        print(\"-\"*50)\n",
        "        print(f\"Classification: {'FAKE NEWS' if prediction == 0 else 'REAL NEWS'}\")\n",
        "        print(f\"Confidence: {confidence*100:.2f}%\")\n",
        "        print(\"-\"*50)\n",
        "\n",
        "        if confidence < 0.6:\n",
        "            print(\"Note: Low confidence prediction. This article may require further verification.\")\n"
      ],
      "metadata": {
        "id": "fGqTH0-TD65P"
      },
      "execution_count": 116,
      "outputs": []
    },
    {
      "cell_type": "code",
      "source": [
        "# Function for getting multiple predictions (FIXED ARGUMENTS)\n",
        "def predict_multiple_inputs(model, vectorizer, best_model_name):  # Now accepts 3 arguments\n",
        "    while True:\n",
        "        print(\"\\nEnter a news headline or article to check (type 'exit' to quit):\")\n",
        "        user_input = input(\"> \")\n",
        "\n",
        "        if user_input.lower() == 'exit':\n",
        "            print(\"Thank you for using the Fake News Detection System.\")\n",
        "            break\n",
        "\n",
        "        if not user_input.strip():\n",
        "            print(\"Please enter some text to analyze.\")\n",
        "            continue\n",
        "\n",
        "        # Preprocess the input text\n",
        "        processed_input = preprocess_text(user_input)\n",
        "\n",
        "        # Transform to vector using the same vectorizer\n",
        "        input_vector = vectorizer.transform([processed_input])\n",
        "\n",
        "        # Get prediction\n",
        "        if best_model_name == \"Neural Network\":\n",
        "            prediction_prob = model.predict(input_vector.toarray()).ravel()[0]\n",
        "            prediction = int(prediction_prob > 0.5)  # Threshold for classification\n",
        "            confidence = prediction_prob if prediction == 1 else 1 - prediction_prob\n",
        "        else:\n",
        "            prediction = model.predict(input_vector)[0]\n",
        "            if hasattr(model, \"predict_proba\"):  # Ensure model supports probability\n",
        "                prediction_prob = model.predict_proba(input_vector)[0]\n",
        "                confidence = prediction_prob[1] if prediction == 1 else prediction_prob[0]\n",
        "            else:\n",
        "                confidence = 0.5  # Default confidence for models without predict_proba\n",
        "\n",
        "        # Display results\n",
        "        print(\"\\nPREDICTION RESULTS:\")\n",
        "        print(\"-\" * 50)\n",
        "        print(f\"Classification: {'FAKE NEWS' if prediction == 0 else 'REAL NEWS'}\")\n",
        "        print(f\"Confidence: {confidence * 100:.2f}%\")\n",
        "        print(\"-\" * 50)\n",
        "\n",
        "        if confidence < 0.6:\n",
        "            print(\"Note: Low confidence prediction. This article may require further verification.\")"
      ],
      "metadata": {
        "id": "0KoP8Ds3SlbG"
      },
      "execution_count": 124,
      "outputs": []
    },
    {
      "cell_type": "code",
      "source": [
        "# Run the prediction function with the best model\n",
        "print(f\"Using {best_model_name} for predictions.\")\n",
        "predict_multiple_inputs(best_model, vectorizer, best_model_name)"
      ],
      "metadata": {
        "id": "u5ghcbiSSv9N",
        "outputId": "2c97dcf5-cc17-4b08-f9fa-3d51f4c63507",
        "colab": {
          "base_uri": "https://localhost:8080/"
        }
      },
      "execution_count": 125,
      "outputs": [
        {
          "output_type": "stream",
          "name": "stdout",
          "text": [
            "Using Random Forest for predictions.\n",
            "\n",
            "Enter a news headline or article to check (type 'exit' to quit):\n",
            "> White House, Congress prepare for talks on spending, immigration WEST PALM BEACH, Fla./WASHINGTON (Reuters) - The White House said on Friday it was set to kick off talks next week with Republican and Democratic congressional leaders on immigration policy, government spending and other issues that need to be wrapped up early in the new year. The expected flurry of legislative activity comes as Republicans and Democrats begin to set the stage for midterm congressional elections in November. President Donald Trump’s Republican Party is eager to maintain control of Congress while Democrats look for openings to wrest seats away in the Senate and the House of Representatives. On Wednesday, Trump’s budget chief Mick Mulvaney and legislative affairs director Marc Short will meet with Senate Majority Leader Mitch McConnell and House Speaker Paul Ryan - both Republicans - and their Democratic counterparts, Senator Chuck Schumer and Representative Nancy Pelosi, the White House said. That will be followed up with a weekend of strategy sessions for Trump, McConnell and Ryan on Jan. 6 and 7 at the Camp David presidential retreat in Maryland, according to the White House. The Senate returns to work on Jan. 3 and the House on Jan. 8. Congress passed a short-term government funding bill last week before taking its Christmas break, but needs to come to an agreement on defense spending and various domestic programs by Jan. 19, or the government will shut down. Also on the agenda for lawmakers is disaster aid for people hit by hurricanes in Puerto Rico, Texas and Florida, and by wildfires in California. The House passed an $81 billion package in December, which the Senate did not take up. The White House has asked for a smaller figure, $44 billion. Deadlines also loom for soon-to-expire protections for young adult immigrants who entered the country illegally as children, known as “Dreamers.” In September, Trump ended Democratic former President Barack Obama’s Deferred Action for Childhood Arrivals (DACA) program, which protected Dreamers from deportation and provided work permits, effective in March, giving Congress until then to devise a long-term solution. Democrats, some Republicans and a number of large companies have pushed for DACA protections to continue. Trump and other Republicans have said that will not happen without Congress approving broader immigration policy changes and tougher border security. Democrats oppose funding for a wall promised by Trump along the U.S.-Mexican border.  “The Democrats have been told, and fully understand, that there can be no DACA without the desperately needed WALL at the Southern Border and an END to the horrible Chain Migration & ridiculous Lottery System of Immigration etc,” Trump said in a Twitter post on Friday. Trump wants to overhaul immigration rules for extended families and others seeking to live in the United States. Republican U.S. Senator Jeff Flake, a frequent critic of the president, said he would work with Trump to protect Dreamers. “We can fix DACA in a way that beefs up border security, stops chain migration for the DREAMers, and addresses the unfairness of the diversity lottery. If POTUS (Trump) wants to protect these kids, we want to help him keep that promise,” Flake wrote on Twitter. Congress in early 2018 also must raise the U.S. debt ceiling to avoid a government default. The U.S. Treasury would exhaust all of its borrowing options and run dry of cash to pay its bills by late March or early April if Congress does not raise the debt ceiling before then, according to the nonpartisan Congressional Budget Office. Trump, who won his first major legislative victory with the passage of a major tax overhaul this month, has also promised a major infrastructure plan. \n",
            "\n",
            "PREDICTION RESULTS:\n",
            "--------------------------------------------------\n",
            "Classification: REAL NEWS\n",
            "Confidence: 98.00%\n",
            "--------------------------------------------------\n",
            "\n",
            "Enter a news headline or article to check (type 'exit' to quit):\n",
            "> Racist Alabama Cops Brutalize Black Boy While He Is In Handcuffs (GRAPHIC IMAGES) The number of cases of cops brutalizing and killing people of color seems to see no end. Now, we have another case that needs to be shared far and wide. An Alabama woman by the name of Angela Williams shared a graphic photo of her son, lying in a hospital bed with a beaten and fractured face, on Facebook. It needs to be shared far and wide, because this is unacceptable.It is unclear why Williams  son was in police custody or what sort of altercation resulted in his arrest, but when you see the photo you will realize that these details matter not. Cops are not supposed to beat and brutalize those in their custody. In the post you are about to see, Ms. Williams expresses her hope that the cops had their body cameras on while they were beating her son, but I think we all know that there will be some kind of convenient  malfunction  to explain away the lack of existence of dash or body camera footage of what was clearly a brutal beating. Hell, it could even be described as attempted murder. Something tells me that this young man will never be the same. Without further ado, here is what Troy, Alabama s finest decided was appropriate treatment of Angela Williams  son:No matter what the perceived crime of this young man might be, this is completely unacceptable. The cops who did this need to rot in jail for a long, long time   but what you wanna bet they get a paid vacation while the force  investigates  itself, only to have the officers returned to duty posthaste?This, folks, is why we say BLACK LIVES MATTER. No way in hell would this have happened if Angela Williams  son had been white. Please share far and wide, and stay tuned to Addicting Info for further updates.Featured image via David McNew/Stringer/Getty Images\n",
            "\n",
            "PREDICTION RESULTS:\n",
            "--------------------------------------------------\n",
            "Classification: FAKE NEWS\n",
            "Confidence: 94.00%\n",
            "--------------------------------------------------\n",
            "\n",
            "Enter a news headline or article to check (type 'exit' to quit):\n",
            "> exit\n",
            "Thank you for using the Fake News Detection System.\n"
          ]
        }
      ]
    }
  ],
  "metadata": {
    "colab": {
      "name": "Welcome To Colab",
      "provenance": []
    },
    "kernelspec": {
      "display_name": "Python 3",
      "name": "python3"
    }
  },
  "nbformat": 4,
  "nbformat_minor": 0
}